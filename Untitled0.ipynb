{
  "nbformat": 4,
  "nbformat_minor": 0,
  "metadata": {
    "colab": {
      "name": "Untitled0.ipynb",
      "provenance": [],
      "authorship_tag": "ABX9TyOZgTgVQCyLZzRzqepwbPe/",
      "include_colab_link": true
    },
    "kernelspec": {
      "name": "python3",
      "display_name": "Python 3"
    }
  },
  "cells": [
    {
      "cell_type": "markdown",
      "metadata": {
        "id": "view-in-github",
        "colab_type": "text"
      },
      "source": [
        "<a href=\"https://colab.research.google.com/github/cienciadedadosjr/Teste/blob/main/Untitled0.ipynb\" target=\"_parent\"><img src=\"https://colab.research.google.com/assets/colab-badge.svg\" alt=\"Open In Colab\"/></a>"
      ]
    },
    {
      "cell_type": "markdown",
      "metadata": {
        "id": "tv2gLBzt-JOX"
      },
      "source": [
        "# Tesí"
      ]
    },
    {
      "cell_type": "code",
      "metadata": {
        "colab": {
          "base_uri": "https://localhost:8080/"
        },
        "id": "sru5XMAK8SSL",
        "outputId": "6cc32c77-9a62-4f28-fea1-8831b224fddc"
      },
      "source": [
        "nome = input('Qual seu nome? ')\n",
        "print ('Seja bem-vindo {}!'.format(nome))"
      ],
      "execution_count": 3,
      "outputs": [
        {
          "output_type": "stream",
          "text": [
            "Qual seu nome? Leandro\n",
            "Seja bem-vindo Leandro!\n"
          ],
          "name": "stdout"
        }
      ]
    }
  ]
}