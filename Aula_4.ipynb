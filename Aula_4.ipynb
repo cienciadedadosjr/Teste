{
  "nbformat": 4,
  "nbformat_minor": 0,
  "metadata": {
    "colab": {
      "name": "Aula_4.ipynb",
      "provenance": [],
      "authorship_tag": "ABX9TyPwF+8JnliGorUrkojyOkJ5",
      "include_colab_link": true
    },
    "kernelspec": {
      "name": "python3",
      "display_name": "Python 3"
    }
  },
  "cells": [
    {
      "cell_type": "markdown",
      "metadata": {
        "id": "view-in-github",
        "colab_type": "text"
      },
      "source": [
        "<a href=\"https://colab.research.google.com/github/cienciadedadosjr/Teste/blob/main/Aula_4.ipynb\" target=\"_parent\"><img src=\"https://colab.research.google.com/assets/colab-badge.svg\" alt=\"Open In Colab\"/></a>"
      ]
    },
    {
      "cell_type": "markdown",
      "metadata": {
        "id": "L6D7N_Ls6EwU"
      },
      "source": [
        "#Aula do Guanabara"
      ]
    },
    {
      "cell_type": "code",
      "metadata": {
        "colab": {
          "base_uri": "https://localhost:8080/"
        },
        "id": "fPhTchWD6C0v",
        "outputId": "57fcc4de-05ae-4424-8190-a924810e0952"
      },
      "source": [
        "print ('Bom dia')\n",
        "print (3 ** 6)\n",
        "print ('7' + '4')\n",
        "7 + 4\n",
        "print ('Olá', 5)"
      ],
      "execution_count": 8,
      "outputs": [
        {
          "output_type": "stream",
          "text": [
            "Bom dia\n",
            "729\n",
            "74\n",
            "Olá 5\n"
          ],
          "name": "stdout"
        }
      ]
    },
    {
      "cell_type": "code",
      "metadata": {
        "colab": {
          "base_uri": "https://localhost:8080/"
        },
        "id": "XQBcj8lf7-zN",
        "outputId": "3a2a1afb-9777-4017-ec76-6c0ea3999e40"
      },
      "source": [
        "nome = 'Salvador'\n",
        "idade = 25\n",
        "nasc = 2020 - idade\n",
        "peso = '96'\n",
        "print ('Boa noite {}. Você nasceu em {} e está com {} quilos.'.format(nome, nasc, peso))"
      ],
      "execution_count": 10,
      "outputs": [
        {
          "output_type": "stream",
          "text": [
            "Boa noite Salvador. Você nasceu em 1995 e está com 96 quilos.\n"
          ],
          "name": "stdout"
        }
      ]
    },
    {
      "cell_type": "code",
      "metadata": {
        "colab": {
          "base_uri": "https://localhost:8080/"
        },
        "id": "HyUAP_0R-cfj",
        "outputId": "503a1f7c-b794-4265-ff57-b527f321ff51"
      },
      "source": [
        "nome_1 = input ('Qual o seu nome?')\n",
        "idade_1 = input ('Qual a sua idade?')\n",
        "peso_1 = input ('Qual seu peso?')\n",
        "print ('Boa noite {}. Você tem {} e está com {} quilos.'.format(nome_1, idade_1, peso_1))"
      ],
      "execution_count": 11,
      "outputs": [
        {
          "output_type": "stream",
          "text": [
            "Qual o seu nome?Salvador\n",
            "Qual a sua idade?43\n",
            "Qual seu peso?96\n",
            "Boa noite Salvador. Você tem 43 e está com 96 quilos.\n"
          ],
          "name": "stdout"
        }
      ]
    },
    {
      "cell_type": "code",
      "metadata": {
        "colab": {
          "base_uri": "https://localhost:8080/"
        },
        "id": "g7X0tcxbAeG3",
        "outputId": "9e04fc07-9419-44b8-ea3c-cdef1c0c7129"
      },
      "source": [
        "nome = input ('Digite seu nome:')\n",
        "print ('Seja bem vindo', nome)"
      ],
      "execution_count": 12,
      "outputs": [
        {
          "output_type": "stream",
          "text": [
            "Digite seu nome:Juliana\n",
            "Seja bem vindo Juliana\n"
          ],
          "name": "stdout"
        }
      ]
    },
    {
      "cell_type": "code",
      "metadata": {
        "colab": {
          "base_uri": "https://localhost:8080/"
        },
        "id": "R-5EL83LCcQp",
        "outputId": "cc2b1a19-18bf-437b-b0fe-a0311b27c143"
      },
      "source": [
        " \n",
        "print ('Preencha com a sua data de nascimento')\n",
        "nome = input ('Digite seu nome: ')\n",
        "dia = input ('Dia: ')\n",
        "mes = input ('Mês: ')\n",
        "ano = input ('Ano: ')\n",
        "print ('Olá {}. Você nasceu em {}/{}/{}.'.format(nome, dia, mes, ano))"
      ],
      "execution_count": 14,
      "outputs": [
        {
          "output_type": "stream",
          "text": [
            "Preencha com a sua data de nascimento\n",
            "Digite seu nome: Juliana\n",
            "Dia: 05\n",
            "Mês: Fevereiro\n",
            "Ano: 2002\n",
            "Olá Juliana. Você nasceu em 05/Fevereiro/2002.\n"
          ],
          "name": "stdout"
        }
      ]
    },
    {
      "cell_type": "code",
      "metadata": {
        "colab": {
          "base_uri": "https://localhost:8080/"
        },
        "id": "2jVkZ_jGEe3R",
        "outputId": "8ebf166b-67ac-44c3-d40f-671ac1b1bdd2"
      },
      "source": [
        "n1 = int (input ('Digite o primeiro número: '))\n",
        "n2 = int (input ('Digite o primeiro número: '))\n",
        "soma = n1 + n2\n",
        "print ('A soma de {} e {} é igual a {}.'.format(n1, n2, soma))"
      ],
      "execution_count": 15,
      "outputs": [
        {
          "output_type": "stream",
          "text": [
            "Digite o primeiro número: 5\n",
            "Digite o primeiro número: 7\n",
            "A soma de 5 e 7 é igual a 12.\n"
          ],
          "name": "stdout"
        }
      ]
    },
    {
      "cell_type": "code",
      "metadata": {
        "colab": {
          "base_uri": "https://localhost:8080/"
        },
        "id": "Og2sqCEgGh5i",
        "outputId": "50ea3513-531b-4723-fe3b-5964216e41c4"
      },
      "source": [
        " \n",
        "nome = input ('Nome: ')\n",
        "p1 = float (input ('Prova 1: '))\n",
        "p2 = float (input ('Prova 2: '))\n",
        "p3 = float (input ('Prova 3: '))\n",
        "sm = (p1 + p2 + p3)\n",
        "if sm >= 28:\n",
        "   print ('Parabéns {}! Você já alcançou a pontuação necessária.'.format(nome))\n",
        "else:\n",
        "   p4 = 28 - sm\n",
        "   print ('{} você precisa tirar no mínimo {}'.format(nome, p4))"
      ],
      "execution_count": 26,
      "outputs": [
        {
          "output_type": "stream",
          "text": [
            "Nome: Juliana\n",
            "Prova 1: 8.5\n",
            "Prova 2: 8.5\n",
            "Prova 3: 8.5\n",
            "Juliana você precisa tirar no minimo 2.5\n"
          ],
          "name": "stdout"
        }
      ]
    }
  ]
}